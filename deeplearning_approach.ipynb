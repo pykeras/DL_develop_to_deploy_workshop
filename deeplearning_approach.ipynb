{
 "cells": [
  {
   "cell_type": "markdown",
   "metadata": {},
   "source": [
    "# [Link to dataset](https://data.mendeley.com/datasets/zw4p9kj6nt/2)"
   ]
  },
  {
   "cell_type": "code",
   "execution_count": 1,
   "metadata": {},
   "outputs": [
    {
     "data": {
      "text/html": [
       "<pre>✔️ 145 ms (2022-08-18T00:23:09/2022-08-18T00:23:09)</pre>"
      ],
      "text/plain": [
       "<IPython.core.display.HTML object>"
      ]
     },
     "metadata": {},
     "output_type": "display_data"
    },
    {
     "name": "stdout",
     "output_type": "stream",
     "text": [
      "GPU 0: NVIDIA GeForce RTX 3090 (UUID: GPU-3b49e2b8-87f0-c515-798b-3492ec05a183)\r\n",
      "GPU 1: NVIDIA GeForce GTX 1080 Ti (UUID: GPU-07628ed7-6ef8-fd67-7d03-cb6a89f72de4)\r\n"
     ]
    }
   ],
   "source": [
    "%load_ext autotime\n",
    "\n",
    "!nvidia-smi -L\n",
    "\n",
    "import os\n",
    "\n",
    "os.environ['CUDA_VISIBLE_DEVICES']='0'"
   ]
  },
  {
   "cell_type": "code",
   "execution_count": 2,
   "metadata": {},
   "outputs": [
    {
     "data": {
      "text/html": [
       "<pre>✔️ 2.69 s (2022-08-18T00:23:10/2022-08-18T00:23:13)</pre>"
      ],
      "text/plain": [
       "<IPython.core.display.HTML object>"
      ]
     },
     "metadata": {},
     "output_type": "display_data"
    }
   ],
   "source": [
    "import numpy as np, tensorflow as tf, matplotlib.pyplot as plt\n",
    "from tensorflow import keras\n",
    "from tensorflow.keras.preprocessing.image import ImageDataGenerator\n",
    "from tensorflow.keras.preprocessing.image import load_img\n",
    "from tensorflow.keras.applications.vgg16 import VGG16, preprocess_input\n",
    "from tensorflow.keras import layers\n",
    "from tensorflow.keras.losses import SparseCategoricalCrossentropy, CategoricalCrossentropy\n",
    "from tensorflow.keras.models import Model\n",
    "\n",
    "from sklearn.metrics import confusion_matrix\n",
    "import itertools, glob\n",
    "\n",
    "# Experiment tracking with mlflow\n",
    "import mlflow\n",
    "import mlflow.tensorflow as mltf"
   ]
  },
  {
   "cell_type": "code",
   "execution_count": 3,
   "metadata": {},
   "outputs": [
    {
     "data": {
      "text/html": [
       "<pre>✔️ 79 ms (2022-08-18T00:23:23/2022-08-18T00:23:23)</pre>"
      ],
      "text/plain": [
       "<IPython.core.display.HTML object>"
      ]
     },
     "metadata": {},
     "output_type": "display_data"
    },
    {
     "data": {
      "text/plain": [
       "[PhysicalDevice(name='/physical_device:GPU:0', device_type='GPU')]"
      ]
     },
     "execution_count": 3,
     "metadata": {},
     "output_type": "execute_result"
    }
   ],
   "source": [
    "tf.config.get_visible_devices(\"GPU\")"
   ]
  },
  {
   "cell_type": "markdown",
   "metadata": {},
   "source": [
    "```\n",
    "mkdir mlflow && mlflow server \\\n",
    "    --backend-store-uri sqlite:///mlflow/mlflow.db \\\n",
    "    --default-artifact-root ./mlflow/artifacts \\\n",
    "    --host 0.0.0.0\n",
    "```"
   ]
  },
  {
   "cell_type": "code",
   "execution_count": 4,
   "metadata": {},
   "outputs": [
    {
     "data": {
      "text/html": [
       "<pre>✔️ 202 ms (2022-08-18T00:23:26/2022-08-18T00:23:26)</pre>"
      ],
      "text/plain": [
       "<IPython.core.display.HTML object>"
      ]
     },
     "metadata": {},
     "output_type": "display_data"
    }
   ],
   "source": [
    "mlflow.set_tracking_uri(\"http://localhost:5000\")\n",
    "mlflow.set_experiment(\"mosquito\")\n",
    "mltf.autolog()\n",
    "\n",
    "mlflow.set_tags({\"Pretrain Model\": \"VGG16\", \n",
    "                \"Preprocessing\" : \"Keras VGG16 Preprocessing\",\n",
    "                \"Pretrained Used Layers\" : \"first 13 Layers - Block4\",\n",
    "                \"Framework\": \"tensorflow.keras\"})"
   ]
  },
  {
   "cell_type": "code",
   "execution_count": 5,
   "metadata": {},
   "outputs": [
    {
     "data": {
      "text/html": [
       "<pre>✔️ 1.42 ms (2022-08-18T00:23:27/2022-08-18T00:23:27)</pre>"
      ],
      "text/plain": [
       "<IPython.core.display.HTML object>"
      ]
     },
     "metadata": {},
     "output_type": "display_data"
    }
   ],
   "source": [
    "train_path = \"./dataset/data_splitting/Train/\"\n",
    "valid_path = \"./dataset/data_splitting/Test/\"\n",
    "test_path = \"./dataset/data_splitting/Pred/\""
   ]
  },
  {
   "cell_type": "code",
   "execution_count": 6,
   "metadata": {},
   "outputs": [
    {
     "data": {
      "text/html": [
       "<pre>✔️ 650 ms (2022-08-18T00:23:27/2022-08-18T00:23:28)</pre>"
      ],
      "text/plain": [
       "<IPython.core.display.HTML object>"
      ]
     },
     "metadata": {},
     "output_type": "display_data"
    }
   ],
   "source": [
    "mlflow.log_artifacts(\"./dataset/data_splitting/\")"
   ]
  },
  {
   "cell_type": "markdown",
   "metadata": {},
   "source": [
    "# How to save ImageDataGenerator parameters in mlflow ?"
   ]
  },
  {
   "cell_type": "code",
   "execution_count": 7,
   "metadata": {},
   "outputs": [
    {
     "data": {
      "text/html": [
       "<pre>✔️ 1.69 ms (2022-08-18T00:23:28/2022-08-18T00:23:28)</pre>"
      ],
      "text/plain": [
       "<IPython.core.display.HTML object>"
      ]
     },
     "metadata": {},
     "output_type": "display_data"
    }
   ],
   "source": [
    "# You can add more augmentations, if you want\n",
    "\n",
    "train_gen = ImageDataGenerator(\n",
    "    rotation_range=0.2,\n",
    "    horizontal_flip=True,\n",
    "    vertical_flip=True,\n",
    "    preprocessing_function=preprocess_input,\n",
    ")\n",
    "\n",
    "gen = ImageDataGenerator(\n",
    "    preprocessing_function=preprocess_input\n",
    ")"
   ]
  },
  {
   "cell_type": "code",
   "execution_count": 8,
   "metadata": {},
   "outputs": [
    {
     "data": {
      "text/html": [
       "<pre>✔️ 40.4 ms (2022-08-18T00:23:29/2022-08-18T00:23:29)</pre>"
      ],
      "text/plain": [
       "<IPython.core.display.HTML object>"
      ]
     },
     "metadata": {},
     "output_type": "display_data"
    }
   ],
   "source": [
    "mlflow.log_params({\"train ImageDataGenerator\": {\"rotation_range\": 0.2,\n",
    "                                                \"horizontal_flip\": True,\n",
    "                                                \"vertical_flip\": True,\n",
    "                                                \"preprocessing_function\": preprocess_input},\n",
    "                   \"test and valid ImageDataGenerator\":{\"preprocessing_function\": preprocess_input}})"
   ]
  },
  {
   "cell_type": "code",
   "execution_count": 9,
   "metadata": {},
   "outputs": [
    {
     "data": {
      "text/html": [
       "<pre>✔️ 4.7 ms (2022-08-18T00:23:29/2022-08-18T00:23:29)</pre>"
      ],
      "text/plain": [
       "<IPython.core.display.HTML object>"
      ]
     },
     "metadata": {},
     "output_type": "display_data"
    },
    {
     "data": {
      "text/plain": [
       "['aegypti landing',\n",
       " 'aegypti smashed',\n",
       " 'albopictus landing',\n",
       " 'albopictus smashed',\n",
       " 'Culex landing',\n",
       " 'Culex smashed']"
      ]
     },
     "execution_count": 9,
     "metadata": {},
     "output_type": "execute_result"
    }
   ],
   "source": [
    "targetMap='''aegypti landing\n",
    "aegypti smashed\n",
    "albopictus landing\n",
    "albopictus smashed\n",
    "Culex landing\n",
    "Culex smashed'''.split('\\n')\n",
    "targetMap"
   ]
  },
  {
   "cell_type": "code",
   "execution_count": 10,
   "metadata": {},
   "outputs": [
    {
     "data": {
      "text/html": [
       "<pre>✔️ 2.31 ms (2022-08-18T00:23:31/2022-08-18T00:23:31)</pre>"
      ],
      "text/plain": [
       "<IPython.core.display.HTML object>"
      ]
     },
     "metadata": {},
     "output_type": "display_data"
    }
   ],
   "source": [
    "# Hyper-Parameters\n",
    "IMG_SIZE = (224, 224)\n",
    "BATCH_SIZE = 32\n",
    "EPOCHS = 25\n",
    "NUM_CLASSES = len(targetMap)"
   ]
  },
  {
   "cell_type": "code",
   "execution_count": 11,
   "metadata": {},
   "outputs": [
    {
     "data": {
      "text/html": [
       "<pre>✔️ 38.2 ms (2022-08-18T00:23:31/2022-08-18T00:23:31)</pre>"
      ],
      "text/plain": [
       "<IPython.core.display.HTML object>"
      ]
     },
     "metadata": {},
     "output_type": "display_data"
    }
   ],
   "source": [
    "mlflow.log_params({\"IMG_SIZE\":(224, 224), \"Format\":\"RGB\", \"BATCH_SIZE\": 32, \"EPOCHS\": 1,\n",
    "                   \"NUM_CLASSES\": len(targetMap)})"
   ]
  },
  {
   "cell_type": "code",
   "execution_count": 12,
   "metadata": {},
   "outputs": [
    {
     "data": {
      "text/html": [
       "<pre>✔️ 597 ms (2022-08-18T00:23:32/2022-08-18T00:23:32)</pre>"
      ],
      "text/plain": [
       "<IPython.core.display.HTML object>"
      ]
     },
     "metadata": {},
     "output_type": "display_data"
    },
    {
     "name": "stdout",
     "output_type": "stream",
     "text": [
      "Found 4200 images belonging to 6 classes.\n",
      "Found 1799 images belonging to 6 classes.\n",
      "Found 3600 images belonging to 6 classes.\n"
     ]
    }
   ],
   "source": [
    "train = train_gen.flow_from_directory(train_path, target_size=IMG_SIZE,\n",
    "                                      classes=targetMap, class_mode='categorical', batch_size=BATCH_SIZE)\n",
    "valid = gen.flow_from_directory(valid_path, target_size=IMG_SIZE,\n",
    "                                      classes=targetMap, class_mode='categorical', batch_size=BATCH_SIZE)\n",
    "test = gen.flow_from_directory(test_path, target_size=IMG_SIZE,\n",
    "                                      classes=targetMap, class_mode='categorical', batch_size=BATCH_SIZE)"
   ]
  },
  {
   "cell_type": "code",
   "execution_count": 13,
   "metadata": {
    "scrolled": true
   },
   "outputs": [
    {
     "data": {
      "text/html": [
       "<pre>✔️ 1.16 s (2022-08-18T00:23:32/2022-08-18T00:23:33)</pre>"
      ],
      "text/plain": [
       "<IPython.core.display.HTML object>"
      ]
     },
     "metadata": {},
     "output_type": "display_data"
    },
    {
     "name": "stdout",
     "output_type": "stream",
     "text": [
      "Model: \"model\"\n",
      "_________________________________________________________________\n",
      " Layer (type)                Output Shape              Param #   \n",
      "=================================================================\n",
      " input_1 (InputLayer)        [(None, 224, 224, 3)]     0         \n",
      "                                                                 \n",
      " block1_conv1 (Conv2D)       (None, 224, 224, 64)      1792      \n",
      "                                                                 \n",
      " block1_conv2 (Conv2D)       (None, 224, 224, 64)      36928     \n",
      "                                                                 \n",
      " block1_pool (MaxPooling2D)  (None, 112, 112, 64)      0         \n",
      "                                                                 \n",
      " block2_conv1 (Conv2D)       (None, 112, 112, 128)     73856     \n",
      "                                                                 \n",
      " block2_conv2 (Conv2D)       (None, 112, 112, 128)     147584    \n",
      "                                                                 \n",
      " block2_pool (MaxPooling2D)  (None, 56, 56, 128)       0         \n",
      "                                                                 \n",
      " block3_conv1 (Conv2D)       (None, 56, 56, 256)       295168    \n",
      "                                                                 \n",
      " block3_conv2 (Conv2D)       (None, 56, 56, 256)       590080    \n",
      "                                                                 \n",
      " block3_conv3 (Conv2D)       (None, 56, 56, 256)       590080    \n",
      "                                                                 \n",
      " block3_pool (MaxPooling2D)  (None, 28, 28, 256)       0         \n",
      "                                                                 \n",
      " block4_conv1 (Conv2D)       (None, 28, 28, 512)       1180160   \n",
      "                                                                 \n",
      " block4_conv2 (Conv2D)       (None, 28, 28, 512)       2359808   \n",
      "                                                                 \n",
      " block4_conv3 (Conv2D)       (None, 28, 28, 512)       2359808   \n",
      "                                                                 \n",
      "=================================================================\n",
      "Total params: 7,635,264\n",
      "Trainable params: 0\n",
      "Non-trainable params: 7,635,264\n",
      "_________________________________________________________________\n"
     ]
    }
   ],
   "source": [
    "# Pretrained Model\n",
    "\n",
    "ptm = VGG16(input_shape=list(IMG_SIZE)+[3], weights='imagenet', include_top=False)\n",
    "ptm.trainable = False\n",
    "\n",
    "\n",
    "vgg = Model(ptm.layers[0].input, ptm.layers[13].output)\n",
    "vgg.summary()"
   ]
  },
  {
   "cell_type": "code",
   "execution_count": 14,
   "metadata": {},
   "outputs": [
    {
     "data": {
      "text/html": [
       "<pre>✔️ 434 µs (2022-08-18T00:23:33/2022-08-18T00:23:33)</pre>"
      ],
      "text/plain": [
       "<IPython.core.display.HTML object>"
      ]
     },
     "metadata": {},
     "output_type": "display_data"
    }
   ],
   "source": [
    "# save image as artifact\n",
    "\n",
    "# keras.utils.plot_model(vgg, to_file='pretrainedModel.png')\n",
    "# mlflow.log_artifact(\"pretrainedModel.png\")"
   ]
  },
  {
   "cell_type": "code",
   "execution_count": 15,
   "metadata": {},
   "outputs": [
    {
     "data": {
      "text/html": [
       "<pre>✔️ 19.2 ms (2022-08-18T00:23:34/2022-08-18T00:23:34)</pre>"
      ],
      "text/plain": [
       "<IPython.core.display.HTML object>"
      ]
     },
     "metadata": {},
     "output_type": "display_data"
    }
   ],
   "source": [
    "# But I prefer a text file\n",
    "\n",
    "run_id = mlflow.active_run().info.run_id # same as uuid\n",
    "\n",
    "def summary_to_text(summay):\n",
    "    with open(f\"./mlflow/artifacts/1/{run_id}/pretrained_summary.txt\", \"w\") as f:\n",
    "        print(summay, file=f)\n",
    "        \n",
    "vgg.summary(print_fn=summary_to_text)\n",
    "\n",
    "mlflow.log_artifact(f\"./mlflow/artifacts/1/{run_id}/pretrained_summary.txt\")"
   ]
  },
  {
   "cell_type": "code",
   "execution_count": 16,
   "metadata": {},
   "outputs": [
    {
     "data": {
      "text/html": [
       "<pre>✔️ 143 ms (2022-08-18T00:23:34/2022-08-18T00:23:34)</pre>"
      ],
      "text/plain": [
       "<IPython.core.display.HTML object>"
      ]
     },
     "metadata": {},
     "output_type": "display_data"
    },
    {
     "name": "stdout",
     "output_type": "stream",
     "text": [
      "Model: \"model_1\"\n",
      "_________________________________________________________________\n",
      " Layer (type)                Output Shape              Param #   \n",
      "=================================================================\n",
      " input_2 (InputLayer)        [(None, 224, 224, 3)]     0         \n",
      "                                                                 \n",
      " rescaling (Rescaling)       (None, 224, 224, 3)       0         \n",
      "                                                                 \n",
      " model (Functional)          (None, 28, 28, 512)       7635264   \n",
      "                                                                 \n",
      " batch_normalization (BatchN  (None, 28, 28, 512)      2048      \n",
      " ormalization)                                                   \n",
      "                                                                 \n",
      " conv2d (Conv2D)             (None, 26, 26, 256)       1179904   \n",
      "                                                                 \n",
      " batch_normalization_1 (Batc  (None, 26, 26, 256)      1024      \n",
      " hNormalization)                                                 \n",
      "                                                                 \n",
      " max_pooling2d (MaxPooling2D  (None, 13, 13, 256)      0         \n",
      " )                                                               \n",
      "                                                                 \n",
      " conv2d_1 (Conv2D)           (None, 11, 11, 128)       295040    \n",
      "                                                                 \n",
      " batch_normalization_2 (Batc  (None, 11, 11, 128)      512       \n",
      " hNormalization)                                                 \n",
      "                                                                 \n",
      " max_pooling2d_1 (MaxPooling  (None, 5, 5, 128)        0         \n",
      " 2D)                                                             \n",
      "                                                                 \n",
      " dropout (Dropout)           (None, 5, 5, 128)         0         \n",
      "                                                                 \n",
      " flatten (Flatten)           (None, 3200)              0         \n",
      "                                                                 \n",
      " dense (Dense)               (None, 256)               819456    \n",
      "                                                                 \n",
      " dropout_1 (Dropout)         (None, 256)               0         \n",
      "                                                                 \n",
      " dense_1 (Dense)             (None, 128)               32896     \n",
      "                                                                 \n",
      " dropout_2 (Dropout)         (None, 128)               0         \n",
      "                                                                 \n",
      " dense_2 (Dense)             (None, 64)                8256      \n",
      "                                                                 \n",
      " dense_3 (Dense)             (None, 6)                 390       \n",
      "                                                                 \n",
      "=================================================================\n",
      "Total params: 9,974,790\n",
      "Trainable params: 2,337,734\n",
      "Non-trainable params: 7,637,056\n",
      "_________________________________________________________________\n"
     ]
    }
   ],
   "source": [
    "i = layers.Input(shape=(IMG_SIZE[:]+(3,)))\n",
    "p = layers.Rescaling(scale=1./255.)(i)\n",
    "p = vgg(p)\n",
    "x = layers.BatchNormalization()(p)\n",
    "x = layers.Conv2D(256, (3, 3), activation='relu')(x)\n",
    "x = layers.BatchNormalization()(x)\n",
    "x = layers.MaxPool2D((2,2))(x)\n",
    "x = layers.Conv2D(128, (3, 3), activation='relu')(x)\n",
    "x = layers.BatchNormalization()(x)\n",
    "x = layers.MaxPool2D((2,2))(x)\n",
    "x = layers.Dropout(0.1)(x)\n",
    "x= layers.Flatten()(x)\n",
    "x = layers.Dense(256)(x)\n",
    "x = layers.Dropout(0.2)(x)\n",
    "x = layers.Dense(128)(x)\n",
    "x = layers.Dropout(0.1)(x)\n",
    "x = layers.Dense(64)(x)\n",
    "x= layers.Dense(NUM_CLASSES, activation='linear')(x)\n",
    "\n",
    "model = Model(i, x)\n",
    "model.summary()"
   ]
  },
  {
   "cell_type": "code",
   "execution_count": 17,
   "metadata": {},
   "outputs": [
    {
     "data": {
      "text/html": [
       "<pre>✔️ 15 min 16 s (2022-08-18T00:23:37/2022-08-18T00:38:54)</pre>"
      ],
      "text/plain": [
       "<IPython.core.display.HTML object>"
      ]
     },
     "metadata": {},
     "output_type": "display_data"
    },
    {
     "name": "stdout",
     "output_type": "stream",
     "text": [
      "Epoch 1/25\n",
      "132/132 [==============================] - 43s 293ms/step - loss: 2.6374 - acc: 0.5545 - val_loss: 0.7401 - val_acc: 0.7065\n",
      "Epoch 2/25\n",
      "132/132 [==============================] - 36s 271ms/step - loss: 0.7386 - acc: 0.7383 - val_loss: 0.4694 - val_acc: 0.8255\n",
      "Epoch 3/25\n",
      "132/132 [==============================] - 36s 269ms/step - loss: 0.5445 - acc: 0.8086 - val_loss: 0.6848 - val_acc: 0.7465\n",
      "Epoch 4/25\n",
      "132/132 [==============================] - 36s 273ms/step - loss: 0.4791 - acc: 0.8207 - val_loss: 0.3630 - val_acc: 0.8688\n",
      "Epoch 5/25\n",
      "132/132 [==============================] - 36s 270ms/step - loss: 0.3680 - acc: 0.8705 - val_loss: 0.6120 - val_acc: 0.7888\n",
      "Epoch 6/25\n",
      "132/132 [==============================] - 36s 269ms/step - loss: 0.3281 - acc: 0.8821 - val_loss: 0.4532 - val_acc: 0.8477\n",
      "Epoch 7/25\n",
      "132/132 [==============================] - 36s 272ms/step - loss: 0.2816 - acc: 0.8960 - val_loss: 0.2485 - val_acc: 0.9122\n",
      "Epoch 8/25\n",
      "132/132 [==============================] - 35s 268ms/step - loss: 0.2722 - acc: 0.9038 - val_loss: 0.3529 - val_acc: 0.8999\n",
      "Epoch 9/25\n",
      "132/132 [==============================] - 36s 269ms/step - loss: 0.2261 - acc: 0.9245 - val_loss: 0.2890 - val_acc: 0.9111\n",
      "Epoch 10/25\n",
      "132/132 [==============================] - 35s 266ms/step - loss: 0.2285 - acc: 0.9198 - val_loss: 0.3917 - val_acc: 0.8755\n",
      "Epoch 11/25\n",
      "132/132 [==============================] - 36s 272ms/step - loss: 0.2431 - acc: 0.9240 - val_loss: 0.1990 - val_acc: 0.9333\n",
      "Epoch 12/25\n",
      "132/132 [==============================] - 36s 271ms/step - loss: 0.1835 - acc: 0.9460 - val_loss: 0.1589 - val_acc: 0.9466\n",
      "Epoch 13/25\n",
      "132/132 [==============================] - 35s 264ms/step - loss: 0.1526 - acc: 0.9495 - val_loss: 0.2068 - val_acc: 0.9389\n",
      "Epoch 14/25\n",
      "132/132 [==============================] - 36s 271ms/step - loss: 0.1575 - acc: 0.9479 - val_loss: 0.3479 - val_acc: 0.9066\n",
      "Epoch 15/25\n",
      "132/132 [==============================] - 36s 272ms/step - loss: 0.2018 - acc: 0.9376 - val_loss: 0.2635 - val_acc: 0.9222\n",
      "Epoch 16/25\n",
      "132/132 [==============================] - 36s 269ms/step - loss: 0.1949 - acc: 0.9367 - val_loss: 0.1902 - val_acc: 0.9389\n",
      "Epoch 17/25\n",
      "132/132 [==============================] - 36s 271ms/step - loss: 0.1463 - acc: 0.9555 - val_loss: 0.2006 - val_acc: 0.9466\n",
      "Epoch 18/25\n",
      "132/132 [==============================] - 36s 269ms/step - loss: 0.1269 - acc: 0.9602 - val_loss: 0.1584 - val_acc: 0.9600\n",
      "Epoch 19/25\n",
      "132/132 [==============================] - 36s 271ms/step - loss: 0.1292 - acc: 0.9550 - val_loss: 0.3804 - val_acc: 0.9044\n",
      "Epoch 20/25\n",
      "132/132 [==============================] - 35s 267ms/step - loss: 0.1936 - acc: 0.9419 - val_loss: 0.2401 - val_acc: 0.9255\n",
      "Epoch 21/25\n",
      "132/132 [==============================] - 36s 272ms/step - loss: 0.1252 - acc: 0.9612 - val_loss: 0.2664 - val_acc: 0.9111\n",
      "Epoch 22/25\n",
      "132/132 [==============================] - 36s 269ms/step - loss: 0.1022 - acc: 0.9648 - val_loss: 0.1515 - val_acc: 0.9622\n",
      "Epoch 23/25\n",
      "132/132 [==============================] - 36s 271ms/step - loss: 0.1416 - acc: 0.9533 - val_loss: 0.1490 - val_acc: 0.9689\n",
      "Epoch 24/25\n",
      "132/132 [==============================] - 35s 266ms/step - loss: 0.1276 - acc: 0.9607 - val_loss: 0.1696 - val_acc: 0.9578\n",
      "Epoch 25/25\n",
      "132/132 [==============================] - 35s 268ms/step - loss: 0.1153 - acc: 0.9669 - val_loss: 0.2366 - val_acc: 0.9444\n"
     ]
    },
    {
     "name": "stderr",
     "output_type": "stream",
     "text": [
      "WARNING:absl:Found untraced functions such as _jit_compiled_convolution_op, _jit_compiled_convolution_op, _jit_compiled_convolution_op, _jit_compiled_convolution_op, _jit_compiled_convolution_op while saving (showing 5 of 12). These functions will not be directly callable after loading.\n"
     ]
    },
    {
     "name": "stdout",
     "output_type": "stream",
     "text": [
      "INFO:tensorflow:Assets written to: /tmp/tmpiv8mbfna/model/data/model/assets\n"
     ]
    },
    {
     "name": "stderr",
     "output_type": "stream",
     "text": [
      "INFO:tensorflow:Assets written to: /tmp/tmpiv8mbfna/model/data/model/assets\n",
      "2022/08/18 00:38:54 WARNING mlflow.utils.environment: Encountered an unexpected error while inferring pip requirements (model URI: /tmp/tmpiv8mbfna/model, flavor: keras), fall back to return ['tensorflow==2.9.0', 'keras==2.9.0']. Set logging level to DEBUG to see the full traceback.\n"
     ]
    }
   ],
   "source": [
    "model.compile(optimizer='adam', loss=CategoricalCrossentropy(from_logits=True), metrics=['acc'])\n",
    "\n",
    "h = model.fit(train, validation_data=valid, epochs=EPOCHS)"
   ]
  },
  {
   "cell_type": "code",
   "execution_count": 19,
   "metadata": {},
   "outputs": [
    {
     "data": {
      "text/html": [
       "<pre>✔️ 5.29 s (2022-08-18T00:43:10/2022-08-18T00:43:15)</pre>"
      ],
      "text/plain": [
       "<IPython.core.display.HTML object>"
      ]
     },
     "metadata": {},
     "output_type": "display_data"
    },
    {
     "name": "stdout",
     "output_type": "stream",
     "text": [
      "113/113 [==============================] - 5s 45ms/step - loss: 0.2003 - acc: 0.9467\n"
     ]
    }
   ],
   "source": [
    "test_loss, test_acc = model.evaluate(test)\n",
    "\n",
    "mlflow.log_metrics({\n",
    "    \"test loss\": test_loss,\n",
    "    \"test accuracy\": test_acc\n",
    "})"
   ]
  },
  {
   "cell_type": "code",
   "execution_count": null,
   "metadata": {},
   "outputs": [],
   "source": []
  }
 ],
 "metadata": {
  "kernelspec": {
   "display_name": "tf2.9",
   "language": "python",
   "name": "tf2.9"
  },
  "language_info": {
   "codemirror_mode": {
    "name": "ipython",
    "version": 3
   },
   "file_extension": ".py",
   "mimetype": "text/x-python",
   "name": "python",
   "nbconvert_exporter": "python",
   "pygments_lexer": "ipython3",
   "version": "3.8.10"
  }
 },
 "nbformat": 4,
 "nbformat_minor": 4
}
